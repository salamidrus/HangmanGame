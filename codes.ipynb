{
 "cells": [
  {
   "cell_type": "markdown",
   "metadata": {},
   "source": [
    "# Hangman Game"
   ]
  },
  {
   "cell_type": "markdown",
   "metadata": {},
   "source": [
    "### Project File Structure\n",
    "- Importing the random and time modules.\n",
    "- Defining functions with specific global arguments.\n",
    "- Implementing loops to execute the program.\n",
    "- Passing the function in the program to run."
   ]
  },
  {
   "cell_type": "markdown",
   "metadata": {},
   "source": [
    "#### 1. Importing the random and time libraries"
   ]
  },
  {
   "cell_type": "code",
   "execution_count": 1,
   "metadata": {
    "collapsed": true
   },
   "outputs": [
    {
     "name": "stdout",
     "output_type": "stream",
     "text": [
      "\n",
      "Welcome to Hangman game\n",
      "\n",
      "Enter your name: idrus\n",
      "Helo idrus!Best of Luck!\n",
      "The game is about to start!\n",
      " Let's play Hangman!\n"
     ]
    }
   ],
   "source": [
    "import random\n",
    "import time\n",
    "\n",
    "# To invite in the game\n",
    "print(\"\\nWelcome to Hangman game\\n\")\n",
    "name = input(\"Enter your name: \")\n",
    "print(\"Helo \" + name + \"! Best of Luck!\")\n",
    "time.sleep(2)\n",
    "print(\"The game is about to start!\\nLet's play Hangman!\")\n",
    "time.sleep(3)"
   ]
  },
  {
   "cell_type": "markdown",
   "metadata": {},
   "source": [
    "##### Explanation:\n",
    "- **Import random**: This is used to randomly choose an item from a list [] or basically a sequence.\n",
    "- **Import time**: This module is used to import the actual time from your pc to use in the program.\n",
    "- **Time.sleep()**: This is used to halt the execution of the program for a few seconds. It is a fun way to put the user of the game in short suspense.\n",
    "\n"
   ]
  },
  {
   "cell_type": "markdown",
   "metadata": {},
   "source": [
    "#### 2. Define the main function"
   ]
  },
  {
   "cell_type": "code",
   "execution_count": 5,
   "metadata": {},
   "outputs": [],
   "source": [
    "def main():\n",
    "    global count\n",
    "    global display\n",
    "    global word\n",
    "    global already_guessed\n",
    "    global length\n",
    "    global play_game\n",
    "    words_to_guess = [\"january\",\"border\",\"image\",\"film\",\"promise\",\"kids\",\"lungs\",\"doll\",\"rhyme\",\"damage\",\"plants\"]\n",
    "    word = random.choice(words_to_guess)\n",
    "    length = len(word)\n",
    "    count = 0\n",
    "    display = \"_\" * length\n",
    "    already_guessed = []\n",
    "    play_game = \"\""
   ]
  },
  {
   "cell_type": "markdown",
   "metadata": {},
   "source": [
    "##### Explanation:\n",
    "- We define the main function that initializes the arguments: global count, global display, global word, global already_guessed, global length and global play_game. They can be used further in other functions too depending on how we want to call them.\n",
    "- **Words_to_guess**: Contains all the Hangman words we want the user to guess in the game.\n",
    "- **Word**: we use the random module in this variable to randomly choose the word from words_to_guess in the game.\n",
    "- **Length**: len() helps us to get the length of the string.\n",
    "- **Count**: is initialized to zero and would increment in the further code.\n",
    "- **Display**: This draws a line for us according to the length of the word to guess.\n",
    "- **Already_guessed**: This would contain the string indices of the correctly guessed words."
   ]
  },
  {
   "cell_type": "markdown",
   "metadata": {},
   "source": [
    "#### 3. Develop a loop to execute the game again"
   ]
  },
  {
   "cell_type": "code",
   "execution_count": 7,
   "metadata": {},
   "outputs": [],
   "source": [
    "# To re-execute the game when the first round end\n",
    "\n",
    "def play_loop():\n",
    "    global play_game\n",
    "    play_game = input(\"Do you want to play again? y = yes, n = no \\n\")\n",
    "    while play_game not in [\"y\",\"n\",\"Y\",\"N\"]:\n",
    "        play_game = input(\"Do you want to play again? y = yes, n = no \\n\")\n",
    "    if play_game == \"y\":\n",
    "        main()\n",
    "    elif play_game == \"n\":\n",
    "        print(\"Thanks for playing! We expect you back again!\")\n",
    "        exit()"
   ]
  },
  {
   "cell_type": "markdown",
   "metadata": {},
   "source": [
    "##### Explanation:\n",
    "- **Play_loop**: This function takes in the argument of play_game.\n",
    "- **Play_game**: We use this argument to either continue the game after it is played once or end it according to what the user suggests.\n",
    "- While loop is used to execute the play_game argument. It takes the parameter, y=yes and n=no. If the user gives an input of something else other than y/n, it asks the question again for the appropriate answer. If the user inputs “y”, the game restarts, otherwise the game ends."
   ]
  },
  {
   "cell_type": "markdown",
   "metadata": {},
   "source": [
    "#### 4. Initialize conditions for hangman game"
   ]
  },
  {
   "cell_type": "code",
   "execution_count": null,
   "metadata": {},
   "outputs": [],
   "source": [
    "# all the conditions required for the game\n",
    "def hangman():\n",
    "    global count\n",
    "    global display\n",
    "    global word\n",
    "    global already_guessed\n",
    "    global play_game\n",
    "    limit = 5\n",
    "    guess = input(\"This is the Hangman Word: \" + display + \" Enter your guess: \\n\")\n",
    "    guess = guess.strip()\n",
    "    \n",
    "    if len(guess.strip()) == 0 or len(guess.strip()) >= 2 or guess <= \"9\":\n",
    "        print(\"Invalid Input, Try a letter\\n\")\n",
    "        hangman()\n",
    "        \n",
    "    # all conditions on hangman game\n",
    "    elif guess in word:\n",
    "        already_guessed.extend([guess])\n",
    "        index = word.find(guess)\n",
    "        word = word[:index] + \"_\" + word[index + 1:]\n",
    "        display = display[:index] + guess + display[index + 1:]\n",
    "        print(display + \"\\n\")\n",
    "    \n",
    "    elif guess in already_guessed:\n",
    "        print(\"Try another letter.\\n\")\n",
    "    \n",
    "    else:\n",
    "        count += 1\n",
    "        \n",
    "        if count == 1:\n",
    "            time.sleep(1)\n",
    "            print(\"   _____ \\n\"\n",
    "                  \"  |      \\n\"\n",
    "                  \"  |      \\n\"\n",
    "                  \"  |      \\n\"\n",
    "                  \"  |      \\n\"\n",
    "                  \"  |      \\n\"\n",
    "                  \"  |      \\n\"\n",
    "                  \"__|__\\n\")\n",
    "            \n",
    "        elif count == 2:\n",
    "            time.sleep(1)\n",
    "            print(\"   _____ \\n\"\n",
    "                  \"  |     | \\n\"\n",
    "                  \"  |     |\\n\"\n",
    "                  \"  |      \\n\"\n",
    "                  \"  |      \\n\"\n",
    "                  \"  |      \\n\"\n",
    "                  \"  |      \\n\"\n",
    "                  \"__|__\\n\")\n",
    "            print(\"Wrong guess. \" + str(limit - count) + \" guesses remaining\\n\")\n",
    "            \n",
    "        elif count == 3:\n",
    "           time.sleep(1)\n",
    "           print(\"   _____ \\n\"\n",
    "                 \"  |     | \\n\"\n",
    "                 \"  |     |\\n\"\n",
    "                 \"  |     | \\n\"\n",
    "                 \"  |      \\n\"\n",
    "                 \"  |      \\n\"\n",
    "                 \"  |      \\n\"\n",
    "                 \"__|__\\n\")\n",
    "           print(\"Wrong guess. \" + str(limit - count) + \" guesses remaining\\n\")\n",
    "        \n",
    "        elif count == 4:\n",
    "            time.sleep(1)\n",
    "            print(\"   _____ \\n\"\n",
    "                  \"  |     | \\n\"\n",
    "                  \"  |     |\\n\"\n",
    "                  \"  |     | \\n\"\n",
    "                  \"  |     O \\n\"\n",
    "                  \"  |      \\n\"\n",
    "                  \"  |      \\n\"\n",
    "                  \"__|__\\n\")\n",
    "            print(\"Wrong guess. \" + str(limit - count) + \" last guess remaining\\n\")\n",
    "            \n",
    "        elif count == 5:\n",
    "            time.sleep(1)\n",
    "            print(\"   _____ \\n\"\n",
    "                  \"  |     | \\n\"\n",
    "                  \"  |     |\\n\"\n",
    "                  \"  |     | \\n\"\n",
    "                  \"  |     O \\n\"\n",
    "                  \"  |    /|\\ \\n\"\n",
    "                  \"  |    / \\ \\n\"\n",
    "                  \"__|__\\n\")\n",
    "            print(\"Wrong guess. You are hanged!!!\\n\")\n",
    "            print(\"The word was:\",already_guessed,word)\n",
    "            play_loop()\n",
    "    \n",
    "    if word == \"_\" * length:\n",
    "        print(\"Congrats! You have guessed the word correctly!\")\n",
    "        play_loop()\n",
    "        \n",
    "    elif count != limit:\n",
    "        hangman()\n",
    "\n",
    "main()\n",
    "\n",
    "hangman()"
   ]
  },
  {
   "cell_type": "markdown",
   "metadata": {},
   "source": [
    "##### Explanation:\n",
    "- We call all the arguments again under the **hangman() function**.\n",
    "- **Limit**: It is the maximum guesses we provide to the user to guess a particular word.\n",
    "- **Guess**: Takes the input from the user for the guessed letter. Guess.strip() removes the letter from the given word.\n",
    "- If loop checks that if no input is given, or two letters are given at once, or a number is entered as an input, it tells the user about the invalid input and executes hangman again.\n",
    "- If the letter is correctly guessed, index searches for that letter in the word.\n",
    "- Display adds that letter in the given space according to its index or where it belongs in the given word.\n",
    "- If we have already guessed the correct letter before and we guess it again, It tells the user to try again and does not lessen any chances.\n",
    "- If the user guessed the wrong letter, the hangman starts to appear which also tells us how many guesses are left. Count was initialized to zero and so with every wrong guess its value increases with one.\n",
    "- Limit is set to 5 and so (limit- count) is the guesses left for the user with every wrong input. If it reaches the limit, the game ends, showing the right guesses (if any) and the word that was supposed to be guessed.\n",
    "- If the word is guessed correctly, matching the length of the display argument, the user has won the game.\n",
    "- Play_loop asks the user to play the game again or exit.\n",
    "- Main() and hangman() would start again if the play_loop executes to yes."
   ]
  },
  {
   "cell_type": "markdown",
   "metadata": {},
   "source": [
    "### Output\n",
    "\n"
   ]
  }
 ],
 "metadata": {
  "kernelspec": {
   "display_name": "Python 3",
   "language": "python",
   "name": "python3"
  },
  "language_info": {
   "codemirror_mode": {
    "name": "ipython",
    "version": 3
   },
   "file_extension": ".py",
   "mimetype": "text/x-python",
   "name": "python",
   "nbconvert_exporter": "python",
   "pygments_lexer": "ipython3",
   "version": "3.7.6"
  }
 },
 "nbformat": 4,
 "nbformat_minor": 4
}
