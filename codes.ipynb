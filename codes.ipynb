{
 "cells": [
  {
   "cell_type": "markdown",
   "metadata": {},
   "source": [
    "# Hangman Game"
   ]
  },
  {
   "cell_type": "markdown",
   "metadata": {},
   "source": [
    "### Project File Structure\n",
    "- Importing the random and time modules.\n",
    "- Defining functions with specific global arguments.\n",
    "- Implementing loops to execute the program.\n",
    "- Passing the function in the program to run."
   ]
  },
  {
   "cell_type": "markdown",
   "metadata": {},
   "source": [
    "#### 1. Importing the random and time libraries"
   ]
  },
  {
   "cell_type": "code",
   "execution_count": 1,
   "metadata": {
    "collapsed": true
   },
   "outputs": [
    {
     "name": "stdout",
     "output_type": "stream",
     "text": [
      "\n",
      "Welcome to Hangman game\n",
      "\n",
      "Enter your name: idrus\n",
      "Helo idrus!Best of Luck!\n",
      "The game is about to start!\n",
      " Let's play Hangman!\n"
     ]
    }
   ],
   "source": [
    "import random\n",
    "import time\n",
    "\n",
    "# To invite in the game\n",
    "print(\"\\nWelcome to Hangman game\\n\")\n",
    "name = input(\"Enter your name: \")\n",
    "print(\"Helo \" + name + \"! Best of Luck!\")\n",
    "time.sleep(2)\n",
    "print(\"The game is about to start!\\nLet's play Hangman!\")\n",
    "time.sleep(3)"
   ]
  },
  {
   "cell_type": "markdown",
   "metadata": {},
   "source": [
    "##### Explanation:\n",
    "- **Import random**: This is used to randomly choose an item from a list [] or basically a sequence.\n",
    "- **Import time**: This module is used to import the actual time from your pc to use in the program.\n",
    "- **Time.sleep()**: This is used to halt the execution of the program for a few seconds. It is a fun way to put the user of the game in short suspense.\n",
    "\n"
   ]
  },
  {
   "cell_type": "markdown",
   "metadata": {},
   "source": [
    "#### 2. Define the main function"
   ]
  },
  {
   "cell_type": "code",
   "execution_count": 5,
   "metadata": {},
   "outputs": [],
   "source": [
    "def main():\n",
    "    global count\n",
    "    global display\n",
    "    global word\n",
    "    global already_guessed\n",
    "    global length\n",
    "    global play_game\n",
    "    words_to_guess = [\"january\",\"border\",\"image\",\"film\",\"promise\",\"kids\",\"lungs\",\"doll\",\"rhyme\",\"damage\",\"plants\"]\n",
    "    word = random.choice(words_to_guess)\n",
    "    length = len(word)\n",
    "    count = 0\n",
    "    display = \"_\" * length\n",
    "    already_guessed = []\n",
    "    play_game = \"\""
   ]
  },
  {
   "cell_type": "markdown",
   "metadata": {},
   "source": [
    "##### Explanation:\n",
    "- We define the main function that initializes the arguments: global count, global display, global word, global already_guessed, global length and global play_game. They can be used further in other functions too depending on how we want to call them.\n",
    "- **Words_to_guess**: Contains all the Hangman words we want the user to guess in the game.\n",
    "- **Word**: we use the random module in this variable to randomly choose the word from words_to_guess in the game.\n",
    "- **Length**: len() helps us to get the length of the string.\n",
    "- **Count**: is initialized to zero and would increment in the further code.\n",
    "- **Display**: This draws a line for us according to the length of the word to guess.\n",
    "- **Already_guessed**: This would contain the string indices of the correctly guessed words."
   ]
  },
  {
   "cell_type": "markdown",
   "metadata": {},
   "source": [
    "#### 2. Develop a loop to execute the game again"
   ]
  },
  {
   "cell_type": "code",
   "execution_count": 7,
   "metadata": {},
   "outputs": [],
   "source": [
    "# To re-execute the game when the first round end\n",
    "\n",
    "def play_loop():\n",
    "    global play_game\n",
    "    play_game = input(\"Do you want to play again? y = yes, n = no \\n\")\n",
    "    while play_game not in [\"y\",\"n\",\"Y\",\"N\"]:\n",
    "        play_game = input(\"Do you want to play again? y = yes, n = no \\n\")\n",
    "    if play_game == \"y\":\n",
    "        main()\n",
    "    elif play_game == \"n\":\n",
    "        print(\"Thanks for playing! We expect you back again!\")\n",
    "        exit()"
   ]
  },
  {
   "cell_type": "markdown",
   "metadata": {},
   "source": [
    "##### Explanation:\n",
    "- **Play_loop**: This function takes in the argument of play_game.\n",
    "- **Play_game**: We use this argument to either continue the game after it is played once or end it according to what the user suggests.\n",
    "- While loop is used to execute the play_game argument. It takes the parameter, y=yes and n=no. If the user gives an input of something else other than y/n, it asks the question again for the appropriate answer. If the user inputs “y”, the game restarts, otherwise the game ends."
   ]
  },
  {
   "cell_type": "code",
   "execution_count": null,
   "metadata": {},
   "outputs": [],
   "source": []
  }
 ],
 "metadata": {
  "kernelspec": {
   "display_name": "Python 3",
   "language": "python",
   "name": "python3"
  },
  "language_info": {
   "codemirror_mode": {
    "name": "ipython",
    "version": 3
   },
   "file_extension": ".py",
   "mimetype": "text/x-python",
   "name": "python",
   "nbconvert_exporter": "python",
   "pygments_lexer": "ipython3",
   "version": "3.7.6"
  }
 },
 "nbformat": 4,
 "nbformat_minor": 4
}
